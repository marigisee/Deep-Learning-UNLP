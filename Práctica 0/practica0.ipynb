{
  "nbformat": 4,
  "nbformat_minor": 0,
  "metadata": {
    "colab": {
      "provenance": [],
      "collapsed_sections": [
        "rYsUz7u5SNy2",
        "61zyw_g3MBbT",
        "Bo0oaFFbSg3b",
        "Pl0Rg0y2e3jQ"
      ],
      "toc_visible": true,
      "mount_file_id": "1vRWhJ-MFG2EHTZyrlUDsXZ_kJr3PFAV2",
      "authorship_tag": "ABX9TyO0cctvnqW+l57SROz9lv6S",
      "include_colab_link": true
    },
    "kernelspec": {
      "name": "python3",
      "display_name": "Python 3"
    },
    "language_info": {
      "name": "python"
    }
  },
  "cells": [
    {
      "cell_type": "markdown",
      "metadata": {
        "id": "view-in-github",
        "colab_type": "text"
      },
      "source": [
        "<a href=\"https://colab.research.google.com/github/marigisee/Deep-Learning-UNLP/blob/main/practica0.ipynb\" target=\"_parent\"><img src=\"https://colab.research.google.com/assets/colab-badge.svg\" alt=\"Open In Colab\"/></a>"
      ]
    },
    {
      "cell_type": "markdown",
      "source": [
        "#Práctica 0\n"
      ],
      "metadata": {
        "id": "0NBCY8XQI_S3"
      }
    },
    {
      "cell_type": "markdown",
      "source": [
        "##Jupyter Notebooks y Google Colab"
      ],
      "metadata": {
        "id": "Y7OdSdgNJVie"
      }
    },
    {
      "cell_type": "markdown",
      "source": [
        "#### Ejercicio 2\n",
        "Experimente la ejecución de varios comandos del sistema operativo a través de celdas de código."
      ],
      "metadata": {
        "id": "rYsUz7u5SNy2"
      }
    },
    {
      "cell_type": "code",
      "source": [
        "#archivos de la carpeta actual\n",
        "!ls\n",
        "#!pip\n",
        "#versión de python instalada en la computadora virtual\n",
        "!python --version\n",
        "#versión instalada del paquete numpy\n",
        "!pip show numpy\n",
        "#comando para crear carpeta\n",
        "!mkdir nuevaCarpeta\n",
        "!mkdir nuevaCarpeta2\n",
        "#comando para eliminar una carpeta\n",
        "!rm -r nuevaCarpeta"
      ],
      "metadata": {
        "id": "4N7sG4WoJXU6"
      },
      "execution_count": null,
      "outputs": []
    },
    {
      "cell_type": "markdown",
      "source": [
        "#### Ejercicio 3\n"
      ],
      "metadata": {
        "id": "61zyw_g3MBbT"
      }
    },
    {
      "cell_type": "markdown",
      "source": [
        "Suba un pequeño archivo de texto a Drive (NO a Colab) y ábralo desde una celda de código Colab"
      ],
      "metadata": {
        "id": "y3A0GrqISXXN"
      }
    },
    {
      "cell_type": "code",
      "source": [
        "ruta_arch = \"drive/MyDrive/textfileDrive.txt\" # ruta y nombre a archivo a LEER desde su drive\n",
        "f = open(ruta_arch, 'r') # abre archivo para leer\n",
        "print(f.readlines()) # imprime contenido en pantalla\n",
        "f.close() # cierra archivo"
      ],
      "metadata": {
        "colab": {
          "base_uri": "https://localhost:8080/"
        },
        "id": "vsyIndC8NJXV",
        "outputId": "71f1d689-1d98-4256-b397-80b519f88f82"
      },
      "execution_count": null,
      "outputs": [
        {
          "output_type": "stream",
          "name": "stdout",
          "text": [
            "['Hola! Esto es un archivo de texto subido a Google Drive! ']\n"
          ]
        }
      ]
    },
    {
      "cell_type": "markdown",
      "source": [
        "Genere el siguiente archivo 'fileGenerated.txt' y guárdelo en su carpeta Drive, comprobando que efectivamente se ha creado\n",
        "con el contenido esperado"
      ],
      "metadata": {
        "id": "oPBK84cKRBCI"
      }
    },
    {
      "cell_type": "code",
      "source": [
        "**ruta_arch** = 'drive/MyDrive/fileGenerated.txt' # ruta y nombre a archivo a ESCRIBIR en su drive\n",
        "f = open(ruta_arch, 'w') # abre archivo para escribir\n",
        "texto = 'Esta es una linea de texto\\nEsta es otra línea de text'\n",
        "f.writelines(texto) # escribe contenido en archivo\n",
        "f.close() # cierra archivo [texto del vínculo](https://)"
      ],
      "metadata": {
        "id": "JABlZmGtSGkK"
      },
      "execution_count": null,
      "outputs": []
    },
    {
      "cell_type": "markdown",
      "source": [
        "## Repaso Python"
      ],
      "metadata": {
        "id": "5d0rekGVSdB8"
      }
    },
    {
      "cell_type": "markdown",
      "source": [
        "####Ejercicio 1"
      ],
      "metadata": {
        "id": "Bo0oaFFbSg3b"
      }
    },
    {
      "cell_type": "markdown",
      "source": [
        "Investigue/repase que son las listas, tuplas, conjuntos y diccionarios nativos de Python. Utilizando los constructores para cada tipo de dato genere\n",
        "códigos de ejemplo y recórralos imprimiendo sus valores."
      ],
      "metadata": {
        "id": "RMu6FWVrS8Ur"
      }
    },
    {
      "cell_type": "code",
      "source": [
        "print('Creo una lista , la recorro e imprimo todos sus elementos')\n",
        "list1 = ['a','b','c','d']\n",
        "##Para imprimirlos de una##\n",
        "print(list1[0:4])\n",
        "##Para recorrer la lista e imprimirl los elementos de a uno##\n",
        "for element1 in list1:\n",
        "   print(element1)\n",
        "\n",
        "print('---------------------------------------------')\n",
        "print('Creo una tupla e imprimo todos sus elementos')\n",
        "tupla = ('a','z',1,2)\n",
        "##Para imprimirlos de una##\n",
        "print(tupla)\n",
        "##Para recorrer la tupla e imprimir los elementos de a uno##\n",
        "for element2 in tupla:\n",
        "  print(element2)\n",
        "\n",
        "print('---------------------------------------------')\n",
        "print('Creo un set (conjunto) e imprimo todos sus elementos')\n",
        "conjunto = {1,2,'f','g'}\n",
        "#Para imprimir los elementos del set de una#\n",
        "print(conjunto)\n",
        "##Para recorrer el conjunto e imprimir los elementos de a uno##\n",
        "for element3 in conjunto:\n",
        "  print(element3)\n",
        "print('---------------------------------------------')\n",
        "print('Creo un diccionario (dict) e imprimo todos sus elementos')\n",
        "figura_geometrica = {\"tipo\":\"triangulo\",\"area\":5000,\"color\":\"amarillo\"}\n",
        "print(figura_geometrica)\n",
        "##Si quiero imprimir por elemento##\n",
        "print(figura_geometrica[\"tipo\"])"
      ],
      "metadata": {
        "id": "tjuDG88yTAR_"
      },
      "execution_count": null,
      "outputs": []
    },
    {
      "cell_type": "markdown",
      "source": [
        "####Ejercicio 2"
      ],
      "metadata": {
        "id": "Pl0Rg0y2e3jQ"
      }
    },
    {
      "cell_type": "markdown",
      "source": [
        "Genere el código necesario para recorrer simultáneamente 2 listas con la misma cantidad de elementos e imprima\n",
        "los mismos utilizando un único for. (Usando función zip())"
      ],
      "metadata": {
        "id": "6Ocmt9dLe9v-"
      }
    },
    {
      "cell_type": "code",
      "source": [
        "list1 = [1,2,3,4]\n",
        "list2 = [5,6,7,8]\n",
        "combined = zip(list1,list2)\n",
        "combined_list = list(combined)\n",
        "print(combined_list)"
      ],
      "metadata": {
        "colab": {
          "base_uri": "https://localhost:8080/"
        },
        "id": "fPk_4ecOfAYr",
        "outputId": "fe85f24d-ed84-4cdc-a8c1-fcf4eb732ba6"
      },
      "execution_count": null,
      "outputs": [
        {
          "output_type": "stream",
          "name": "stdout",
          "text": [
            "[(1, 5), (2, 6), (3, 7), (4, 8)]\n"
          ]
        }
      ]
    },
    {
      "cell_type": "markdown",
      "source": [
        "####Ejercicio 3\n"
      ],
      "metadata": {
        "id": "fRpNaooVgmX6"
      }
    },
    {
      "cell_type": "markdown",
      "source": [
        "Implemente una función que a partir de la lista que recibe cómo parámetro, retorne una nueva lista sin elementos\n",
        "repetidos. Compruebe su correcto funcionamiento."
      ],
      "metadata": {
        "id": "76hwzOLWYK17"
      }
    },
    {
      "cell_type": "code",
      "source": [
        "print('La lista con los elementos repetidos:')\n",
        "lista = [1,1,2,3,4,5,6]\n",
        "print(lista)\n",
        "def eliminarDuplicados(input_list):\n",
        "  listaNueva = list(set(lista))\n",
        "  return listaNueva\n",
        "print('La lista sin los elementos repetidos:')\n",
        "print(eliminarDuplicados(lista))\n"
      ],
      "metadata": {
        "colab": {
          "base_uri": "https://localhost:8080/"
        },
        "id": "tCoOEMZUg8IT",
        "outputId": "8f552c4f-81d4-4fa4-b08e-fb892b2d1a0c"
      },
      "execution_count": null,
      "outputs": [
        {
          "output_type": "stream",
          "name": "stdout",
          "text": [
            "La lista con los elementos repetidos:\n",
            "[1, 1, 2, 3, 4, 5, 6]\n",
            "La lista sin los elementos repetidos:\n",
            "[1, 2, 3, 4, 5, 6]\n"
          ]
        }
      ]
    },
    {
      "cell_type": "markdown",
      "source": [
        "Para la resolución de este ejercicio utilizamos la propiedad de los conjuntos (sets) : los elementos no se pueden repetir. Convertimos la lista en un set, se elimina automáticamente todos los elementos repetidos y \"volvemos a convertir\" a lista."
      ],
      "metadata": {
        "id": "KY0JJDuIh-8V"
      }
    },
    {
      "cell_type": "markdown",
      "source": [
        "#### Ejercicio 4\n"
      ],
      "metadata": {
        "id": "HFqqJmd5iSzh"
      }
    },
    {
      "cell_type": "markdown",
      "source": [
        "Implemente una función que calcule la distancia entre 2 puntos (2D). Utilice la función sqrt del paquete math para\n",
        "implementarla y compruebe el correcto funcionamiento de la misma"
      ],
      "metadata": {
        "id": "CaMuU-vqiXlQ"
      }
    },
    {
      "cell_type": "code",
      "source": [
        "import math\n",
        "punto1={'x':10,'y':5}\n",
        "punto2={'x':2,'y':4}\n",
        "def distance(punto1,punto2):\n",
        "    distance_points = math.sqrt(((punto2[\"x\"]-punto1[\"x\"])**2+(punto2[\"y\"]-punto1[\"y\"])**2))\n",
        "    return distance_points\n",
        "print(\"La distancia entre los dos puntos es: \"+ str(distance(punto1,punto2)))"
      ],
      "metadata": {
        "colab": {
          "base_uri": "https://localhost:8080/"
        },
        "id": "y3d9tUZ6QdHr",
        "outputId": "261f09b3-9ab0-4141-f5c0-ac3fe9da71fc"
      },
      "execution_count": null,
      "outputs": [
        {
          "output_type": "stream",
          "name": "stdout",
          "text": [
            "La distancia entre los dos puntos es: 8.06225774829855\n"
          ]
        }
      ]
    },
    {
      "cell_type": "markdown",
      "source": [
        "#### Ejercicio 5"
      ],
      "metadata": {
        "id": "sIFBtfChTnVx"
      }
    },
    {
      "cell_type": "markdown",
      "source": [
        "Investigue y escriba código que demuestre el funcionamiento de los “slices” en listas."
      ],
      "metadata": {
        "id": "bc-l9a_qTpOK"
      }
    },
    {
      "cell_type": "markdown",
      "source": [
        "Las slices en listas en Python funcionan para extraer una porción deseada del contenido de una lista.\n",
        "Por ejemplo, sea la siguiente lista definida como `lista_ejemplo` , vamos a extraer solo los elementos desde la posición 3 hasta la posición 7."
      ],
      "metadata": {
        "id": "9AhhqxHbT2tE"
      }
    },
    {
      "cell_type": "code",
      "source": [
        "lista_ejemplo=[1,2,3,4,5,6,7,8,9]\n",
        "slice_lista_ejemplo=lista_ejemplo[2:6]\n",
        "print(slice_lista_ejemplo)"
      ],
      "metadata": {
        "colab": {
          "base_uri": "https://localhost:8080/"
        },
        "id": "Ix8Lh1ILT84D",
        "outputId": "1792a9ed-6e1b-4893-9d79-52e009398eda"
      },
      "execution_count": null,
      "outputs": [
        {
          "output_type": "stream",
          "name": "stdout",
          "text": [
            "[3, 4, 5, 6]\n"
          ]
        }
      ]
    },
    {
      "cell_type": "markdown",
      "source": [
        "Supongamos que quiero tomar de una lista más grande, los elementos desde la posición 2 hasta la posición 14 pero de a \"saltos\" de 2 unidades. Entonces:"
      ],
      "metadata": {
        "id": "TCeNfwhDWvOp"
      }
    },
    {
      "cell_type": "code",
      "source": [
        "lista_ejemplo=[1,2,3,4,5,6,7,8,9,10,11,12,13,14]\n",
        "slice_lista_ejemplo=lista_ejemplo[1:13:2]\n",
        "print(slice_lista_ejemplo)"
      ],
      "metadata": {
        "colab": {
          "base_uri": "https://localhost:8080/"
        },
        "id": "8HVYV7f8W2R0",
        "outputId": "15ad79c9-11ec-4207-9d9d-167e7c166d2c"
      },
      "execution_count": null,
      "outputs": [
        {
          "output_type": "stream",
          "name": "stdout",
          "text": [
            "[2, 4, 6, 8, 10, 12]\n"
          ]
        }
      ]
    },
    {
      "cell_type": "markdown",
      "source": [
        "## Biblioteca Numpy"
      ],
      "metadata": {
        "id": "rSUX1L2YYSdO"
      }
    },
    {
      "cell_type": "markdown",
      "source": [
        "#### Ejercicio 1"
      ],
      "metadata": {
        "id": "a7wxpGitYWCB"
      }
    },
    {
      "cell_type": "markdown",
      "source": [
        "Practique la creación de vectores, matrices y tensores"
      ],
      "metadata": {
        "id": "FqihJeQdZWH1"
      }
    },
    {
      "cell_type": "code",
      "source": [
        "#Creación de vector\n",
        "import numpy as np\n",
        "print('Imprimo un vector')\n",
        "vector = np.array(['v','e','c','t','o','r'])\n",
        "print(vector)\n",
        "print('----------------------------')\n",
        "#Creación de matriz\n",
        "print('Imprimo una matriz de 6x2')\n",
        "matriz = np.array([['m','a','t','r','i','z'],['z','i','r','t','a','m']])\n",
        "print(matriz)\n",
        "print('----------------------------')\n",
        "#Creacion de tensores\n",
        "print('Imprimo el tensor')\n",
        "tens = np.array([[[1, 2], [3, 4]], [[5, 6], [7, 8]]])\n",
        "print(tens)"
      ],
      "metadata": {
        "colab": {
          "base_uri": "https://localhost:8080/"
        },
        "id": "WuFo27CbZbue",
        "outputId": "6401269f-1fb6-486b-bb71-15c48d337da0"
      },
      "execution_count": null,
      "outputs": [
        {
          "output_type": "stream",
          "name": "stdout",
          "text": [
            "Imprimo un vector\n",
            "['v' 'e' 'c' 't' 'o' 'r']\n",
            "----------------------------\n",
            "Imprimo una matriz de 6x2\n",
            "[['m' 'a' 't' 'r' 'i' 'z']\n",
            " ['z' 'i' 'r' 't' 'a' 'm']]\n",
            "----------------------------\n",
            "Imprimo el tensor\n",
            "[[[1 2]\n",
            "  [3 4]]\n",
            "\n",
            " [[5 6]\n",
            "  [7 8]]]\n"
          ]
        }
      ]
    },
    {
      "cell_type": "markdown",
      "source": [
        "Responda:\n",
        "\n",
        "---\n",
        "\n",
        "*   ¿Qué diferencias hay entre los constructores, array, empty, full, zeros, ones, identity?\n",
        "\n",
        "    Dependiendo de con qué tipo de matriz vayamos a trabajar, vamos a utilizar distintos constructores que nos facilitarán el trabajo.\n",
        "    Por ejemplo, si queremos trabajar con la matriz identidad, utilizamos la función identity.\n",
        "\n",
        "\n",
        "*  array: crea una matriz con los elementos que le brindemos\n",
        "*  empty: crea una matriz sin inicializar. Reserva memoria.\n",
        "*  full: crea una matriz con todos elementos inicializados con un valor especificado.\n",
        "*  zeros: crea una matriz cuyos elementos son ceros.\n",
        "*  ones: crea una matriz inicializada en 1's\n",
        "*  identity: crea una matriz identidad especificando la cantidad de filas deseadas.\n",
        "\n",
        "\n",
        "\n",
        "\n",
        "---\n",
        "    \n",
        "*   ¿Qué tipos de datos pueden utilizarse? ¿En qué se diferencian? ¿Cuál es el tipo que se toma por defecto?¿Es siempre el mismo?\n",
        "\n",
        "Los tipos de datos que pueden utilizarse en las anteriores funciones son:\n",
        "\n",
        "\n",
        "*   int : valores numericos sin punto decimal\n",
        "*   float: valores numéricos con punto decimal. Pueden representar numeros reales, racionales e irracionales.\n",
        "*   complex: valores que cuentan con una parte real y otra imaginaria.\n",
        "\n",
        "El tipo de dato que se toma por defecto es el **flotante**.\n",
        "\n",
        "---\n",
        "*   ¿Qué funciones se pueden utilizar para generar arreglos con números aleatorios?\n",
        "\n",
        "Dentro de la libreria Numpy contamos con diferentes funciones de generación de números randoms y cada una con diferentes funcionalidades.\n",
        "Entre ellas estan:\n",
        "\n",
        "\n",
        "*   `numpy.random.randint()`: Genera números enteros aleatorios dentro de un rango específico.\n",
        "*   `numpy.random.uniform()`: Genera números aleatorios con una distribución uniforme en un rango especificado.\n",
        "*   `numpy.random.normal()`: Genera números aleatorios con una distribución normal, especificando la media y la desviación estándar\n",
        "*   `numpy.random.seed()`:Permite establecer una semilla para la generación de números aleatorios, lo que hace que los resultados sean reproducibles.\n",
        "\n",
        "\n",
        "\n",
        "\n"
      ],
      "metadata": {
        "id": "c3DEpTSeYYrb"
      }
    },
    {
      "cell_type": "markdown",
      "source": [
        "#### Ejercicio 2\n"
      ],
      "metadata": {
        "id": "SCJn3zs7-Rdm"
      }
    },
    {
      "cell_type": "markdown",
      "source": [
        "Investigue y ejemplifique las funciones relacionadas al tamaño de los arrays de Numpy\n",
        "\n",
        "Las funciones que serán utilizadas en el ejemplo son:\n",
        "\n",
        "\n",
        "1.   `numpy.shape()`: Devuelve la tupla de dimensiones de un array\n",
        "2.   `numpy.ndim()` : Devuelve el número de dimensiones (el rango) de un array.\n",
        "3.   `numpy.size()`: Devuelve el número total de elementos en un array.\n",
        "4.   `numpy.reshape()`: Cambia la forma (dimensiones) de un array.\n",
        "5.   `numpy.flatten()`: Se utiliza para convertir un array multidimensional en un array unidimensional\n",
        "6.   `numpy.transpose()`: Devuelve la transposición de un array.\n",
        "6. `numpy.len()`: Devuelve la cantidaad de elementos de una matriz. Se debe utilizar en matrices **unidimensionales**.\n",
        "\n"
      ],
      "metadata": {
        "id": "b7q8JMuR-XuT"
      }
    },
    {
      "cell_type": "code",
      "source": [
        "import numpy as np\n",
        "##Creamos una matriz de (4x4) para aplicarle todas las funciones##\n",
        "matriz = np.array([[2,2,2,2],[4,4,4,4],[6,6,6,6],[8,8,8,8]])\n",
        "print(matriz)\n",
        "##--------------------------------------------------------------##\n",
        "print('------------------')\n",
        "print('Aplicamos .shape()')\n",
        "print('La dimensión de la matriz es:'+str(np.shape(matriz)))\n",
        "print('------------------')\n",
        "print('Aplicamos .ndim()')\n",
        "print('El rango de la matriz es:'+str(np.ndim(matriz)))\n",
        "print('------------------')\n",
        "print('Aplicamos .size()')\n",
        "print('El total de elementos de la matriz es:'+str(np.size(matriz)))\n",
        "print('------------------')\n",
        "print('Aplicamos .flatten()')\n",
        "matriz_uni = matriz.flatten()\n",
        "print('Imprimimos la matriz unidimensional con los elementos de la anterior matriz:')\n",
        "print(matriz_uni)\n",
        "print('------------------')\n",
        "print('Calculamos la transpuesta de la matriz')\n",
        "np.transpose(matriz)"
      ],
      "metadata": {
        "colab": {
          "base_uri": "https://localhost:8080/"
        },
        "id": "fRUTc_VP-ipI",
        "outputId": "0ce05fbd-6cc7-4655-befc-11fe37b3e867"
      },
      "execution_count": null,
      "outputs": [
        {
          "output_type": "stream",
          "name": "stdout",
          "text": [
            "[[2 2 2 2]\n",
            " [4 4 4 4]\n",
            " [6 6 6 6]\n",
            " [8 8 8 8]]\n",
            "------------------\n",
            "Aplicamos .shape()\n",
            "La dimensión de la matriz es:(4, 4)\n",
            "------------------\n",
            "Aplicamos .ndim()\n",
            "El rango de la matriz es:2\n",
            "------------------\n",
            "Aplicamos .size()\n",
            "El total de elementos de la matriz es:16\n",
            "------------------\n",
            "Aplicamos .flatten()\n",
            "Imprimimos la matriz unidimensional con los elementos de la anterior matriz:\n",
            "[2 2 2 2 4 4 4 4 6 6 6 6 8 8 8 8]\n",
            "------------------\n",
            "Calculamos la transpuesta de la matriz\n"
          ]
        },
        {
          "output_type": "execute_result",
          "data": {
            "text/plain": [
              "array([[2, 4, 6, 8],\n",
              "       [2, 4, 6, 8],\n",
              "       [2, 4, 6, 8],\n",
              "       [2, 4, 6, 8]])"
            ]
          },
          "metadata": {},
          "execution_count": 23
        }
      ]
    },
    {
      "cell_type": "markdown",
      "source": [
        "#### Ejercicio 3"
      ],
      "metadata": {
        "id": "Xs9J0CBkBr6d"
      }
    },
    {
      "cell_type": "markdown",
      "source": [
        "Practique funciones de agregación (sum, min, max, etc.) sobre vectores, matrices y tensores.\n"
      ],
      "metadata": {
        "id": "TH0k1lWQBvq4"
      }
    },
    {
      "cell_type": "code",
      "source": [
        "import numpy as np\n",
        "##Creo dos matrices##\n",
        "matriz1 = np.array([[1,1,0],[3,3,3],[5,5,5]])\n",
        "matriz2 = np.array([[2,2,0],[4,4,4],[6,6,6]])\n",
        "print(matriz1)\n",
        "print('-----------')\n",
        "print(matriz2)\n",
        "print('----------------------------------')\n",
        "##------Funcion sum()------##\n",
        "print('La suma de todos los elementos de cada matriz (por columnas)')\n",
        "print('matriz1:'+str(sum(matriz1)))\n",
        "print('matriz2:'+str(sum(matriz2)))\n",
        "##------Funcion min()------##\n",
        "print('----------------------------------')\n",
        "print('Calculo del elemento de menor valor dentro de la matriz')\n",
        "print('matriz1:'+str(np.min(matriz1)))\n",
        "print('matriz2:'+str(np.min(matriz2)))\n",
        "##------Funcion max()------##\n",
        "print('----------------------------------')\n",
        "print('Calculo del elemento de mayor valor dentro de la matriz')\n",
        "print('matriz1:'+str(np.max(matriz1)))\n",
        "print('matriz2:'+str(np.max(matriz2)))"
      ],
      "metadata": {
        "colab": {
          "base_uri": "https://localhost:8080/"
        },
        "id": "UWY7wiLoCKHc",
        "outputId": "3664f98e-bcb8-4395-c2f4-fdd12bfa447a"
      },
      "execution_count": null,
      "outputs": [
        {
          "output_type": "stream",
          "name": "stdout",
          "text": [
            "[[1 1 0]\n",
            " [3 3 3]\n",
            " [5 5 5]]\n",
            "-----------\n",
            "[[2 2 0]\n",
            " [4 4 4]\n",
            " [6 6 6]]\n",
            "----------------------------------\n",
            "La suma de todos los elementos de cada matriz (por columnas)\n",
            "matriz1:[9 9 8]\n",
            "matriz2:[12 12 10]\n",
            "----------------------------------\n",
            "Calculo del elemento de menor valor dentro de la matriz\n",
            "matriz1:0\n",
            "matriz2:0\n",
            "----------------------------------\n",
            "Calculo del elemento de mayor valor dentro de la matriz\n",
            "matriz1:5\n",
            "matriz2:6\n"
          ]
        }
      ]
    },
    {
      "cell_type": "markdown",
      "source": [
        "Estas funciones de agregación pueden aplicarse tanto a todos los elementos del array como a dimensiones específicas utilizando el argumento `axis`.\n",
        "\n",
        "Ejemplo con tensores:"
      ],
      "metadata": {
        "id": "TMCMwaNgEcsv"
      }
    },
    {
      "cell_type": "code",
      "source": [
        "tensor = np.array([[[1, 2],\n",
        "                    [3, 4]],\n",
        "                   [[5, 6],\n",
        "                    [7, 8]]])\n",
        "\n",
        "# Suma a lo largo de los ejes 1 y 2 (axis=(1, 2))\n",
        "axis_sum = np.sum(tensor, axis=(1, 2))\n",
        "print(axis_sum)"
      ],
      "metadata": {
        "colab": {
          "base_uri": "https://localhost:8080/"
        },
        "id": "z7Kou_brEorE",
        "outputId": "cb0dcdfb-a752-4896-c80c-f43e2173c6c2"
      },
      "execution_count": null,
      "outputs": [
        {
          "output_type": "stream",
          "name": "stdout",
          "text": [
            "[10 26]\n"
          ]
        }
      ]
    },
    {
      "cell_type": "markdown",
      "source": [
        "#### Ejercicio 4"
      ],
      "metadata": {
        "id": "gKLPgZOSH8Cn"
      }
    },
    {
      "cell_type": "markdown",
      "source": [
        "Investigue y realice ejemplos que utilicen funciones para manipular elementos de arreglos (append, insert, delete,\n",
        "etc.) y arreglos entre sí (vstack, hstack, contacenate, etc.)\n",
        "\n",
        "Las siguientes funciones son utilizadas para **manipular elementos de arreglos**.\n",
        "\n",
        "1.   `numpy.append()` :  Agrega elementos al final de un array.\n",
        "2.   `numpy.insert()` :  Inserta elementos en una posición específica de un array.\n",
        "3.   `numpy.delete()` : Elimina elementos de un array en una posición específica.\n",
        "\n",
        "\n",
        "Ejemplos:\n"
      ],
      "metadata": {
        "id": "gmpLUfN8H-vD"
      }
    },
    {
      "cell_type": "code",
      "source": [
        "import numpy as np\n",
        "##Creación matriz##\n",
        "print('Matriz original:')\n",
        "matriz=np.array([[3,2,1],[1,1,1],[5,5,5]])\n",
        "print(matriz)\n",
        "##-----Uso funcion append----##\n",
        "print('Agregamos una nueva columna con la función append dsp de la ultima columna de la matriz')\n",
        "columna_extra = np.array([[100],[100],[100]])\n",
        "append_matriz= np.append(matriz,columna_extra,axis=1)\n",
        "print(append_matriz)\n",
        "##-----Uso funcion insert----##\n",
        "print('Agregamos una nueva fila con la función insert en la fila 0')\n",
        "fila_extra = np.array([300,300,300])\n",
        "insert_matriz = np.insert(matriz,0,fila_extra,axis=0)\n",
        "print(insert_matriz)\n",
        "##-----Uso funcion delete----##\n",
        "print('Eliminamos la primera fila de la matriz')\n",
        "delete = np.delete(matriz,0,axis=0)\n",
        "print(delete)"
      ],
      "metadata": {
        "colab": {
          "base_uri": "https://localhost:8080/"
        },
        "id": "ORdj_WCYIPU9",
        "outputId": "51331cf2-f70b-49a2-9ebf-7af979e568f3"
      },
      "execution_count": null,
      "outputs": [
        {
          "output_type": "stream",
          "name": "stdout",
          "text": [
            "Matriz original:\n",
            "[[3 2 1]\n",
            " [1 1 1]\n",
            " [5 5 5]]\n",
            "Agregamos una nueva columna con la función append dsp de la ultima columna de la matriz\n",
            "[[  3   2   1 100]\n",
            " [  1   1   1 100]\n",
            " [  5   5   5 100]]\n",
            "Agregamos una nueva fila con la función insert en la fila 0\n",
            "[[300 300 300]\n",
            " [  3   2   1]\n",
            " [  1   1   1]\n",
            " [  5   5   5]]\n",
            "Eliminamos la primera fila de la matriz\n",
            "[[1 1 1]\n",
            " [5 5 5]]\n"
          ]
        }
      ]
    },
    {
      "cell_type": "markdown",
      "source": [
        "Las siguientes funciones son utilizadas para **operaciones entre arreglos**.\n",
        "\n",
        "1.   `numpy.vstack()` :  Apila verticalmente (concatena a lo largo del eje 0) dos o más arreglos.\n",
        "2.   `numpy.hstack()` :  Apila horizontalmente (concatena a lo largo del eje 1) dos o más arreglos.\n",
        "3.   `numpy.concatenate()` : Concatena arreglos a lo largo de un eje específico.\n",
        "\n",
        "Ejemplos"
      ],
      "metadata": {
        "id": "qVgaam7-TFGh"
      }
    },
    {
      "cell_type": "code",
      "source": [
        "import numpy as np\n",
        "##---------Uso del función vstack()---------##\n",
        "arr1 = np.array([[1, 2, 3], [4, 5, 6]])\n",
        "print(arr1)\n",
        "print('--------------')\n",
        "arr2 = np.array([[7, 8, 9]])\n",
        "print(arr2)\n",
        "print('--------------')\n",
        "stacked_arr = np.vstack((arr1, arr2))\n",
        "print('Resultado con .vstack()')\n",
        "print(stacked_arr)\n",
        "print('------------------------------------------')\n",
        "##---------Uso del función hstack()---------##\n",
        "arr1 = np.array([1, 2, 3])\n",
        "print(arr1)\n",
        "print('--------------')\n",
        "arr2 = np.array([4, 5, 6])\n",
        "print(arr2)\n",
        "print('--------------')\n",
        "stacked_arr = np.hstack((arr1, arr2))\n",
        "print('Resultado con .vstack()')\n",
        "print(stacked_arr)\n",
        "print('------------------------------------------')\n",
        "##---------Uso del función concatenate()---------##\n",
        "arr1 = np.array([[1, 2], [3, 4]])\n",
        "arr2 = np.array([[5, 6]])\n",
        "concatenated_arr = np.concatenate((arr1, arr2), axis=0)\n",
        "print(concatenated_arr)"
      ],
      "metadata": {
        "colab": {
          "base_uri": "https://localhost:8080/"
        },
        "id": "2KUI8owYTLTT",
        "outputId": "763a966f-a343-47e8-b56e-27aa740cfc33"
      },
      "execution_count": null,
      "outputs": [
        {
          "output_type": "stream",
          "name": "stdout",
          "text": [
            "[[1 2 3]\n",
            " [4 5 6]]\n",
            "--------------\n",
            "[[7 8 9]]\n",
            "--------------\n",
            "Resultado con .vstack()\n",
            "[[1 2 3]\n",
            " [4 5 6]\n",
            " [7 8 9]]\n",
            "------------------------------------------\n",
            "[1 2 3]\n",
            "--------------\n",
            "[4 5 6]\n",
            "--------------\n",
            "Resultado con .vstack()\n",
            "[1 2 3 4 5 6]\n",
            "------------------------------------------\n",
            "[[1 2]\n",
            " [3 4]\n",
            " [5 6]]\n"
          ]
        }
      ]
    },
    {
      "cell_type": "markdown",
      "source": [
        "#### Ejercicio 5"
      ],
      "metadata": {
        "id": "lY1t9-RkVMfz"
      }
    },
    {
      "cell_type": "markdown",
      "source": [
        "Los arrays de numpy (así como las listas) proveen de un mecanismo versátil para hacer o referenciar una sección\n",
        "de los mismos. Practique este mecanismo de acceso con vectores, matrices y tensores imprimiendo y\n",
        "modificando distintas regiones de los mismos.\n",
        "\n",
        "Ejemplos de acceso con matrices:"
      ],
      "metadata": {
        "id": "Kr7iq1EOVPGO"
      }
    },
    {
      "cell_type": "code",
      "source": [
        "import numpy as np\n",
        "#Creo una matriz\n",
        "matrix = np.array([[1, 2, 3],\n",
        "                   [4, 5, 6],\n",
        "                   [7, 8, 9]])\n",
        "# Acceder a un elemento específico\n",
        "print(\"Elemento en la fila 1 y columna 2:\", matrix[1, 2])\n",
        "# Acceder a una fila completa\n",
        "print(\"Fila 2:\", matrix[1, :])\n",
        "# Acceder a una columna completa\n",
        "print(\"Columna 1:\", matrix[:, 0])\n",
        "# Modificar un elemento específico\n",
        "matrix[0, 0] = 10\n",
        "print(\"Matriz modificada:\\n\", matrix)"
      ],
      "metadata": {
        "colab": {
          "base_uri": "https://localhost:8080/"
        },
        "id": "SDLcLgEcVY_k",
        "outputId": "69d79e06-ca11-407d-ff9d-dd9dc493c4fe"
      },
      "execution_count": null,
      "outputs": [
        {
          "output_type": "stream",
          "name": "stdout",
          "text": [
            "Elemento en la fila 1 y columna 2: 6\n",
            "Fila 2: [4 5 6]\n",
            "Columna 1: [1 4 7]\n",
            "Matriz modificada:\n",
            " [[10  2  3]\n",
            " [ 4  5  6]\n",
            " [ 7  8  9]]\n"
          ]
        }
      ]
    },
    {
      "cell_type": "markdown",
      "source": [
        "Ejemplos de acceso con tensores:\n",
        "\n",
        "\n"
      ],
      "metadata": {
        "id": "5G4xL7RWV3wZ"
      }
    },
    {
      "cell_type": "code",
      "source": [
        "import numpy as np\n",
        "\n",
        "# Crear un tensor\n",
        "tensor = np.array([[[1, 2],\n",
        "                    [3, 4]],\n",
        "                   [[5, 6],\n",
        "                    [7, 8]]])\n",
        "\n",
        "# Acceder a un elemento específico\n",
        "print(\"Elemento en el tensor en la capa 1, fila 1 y columna 0:\", tensor[0, 1, 0])\n",
        "\n",
        "# Acceder a una capa completa\n",
        "print(\"Capa 0:\", tensor[0, :, :])\n",
        "\n",
        "# Modificar un elemento específico\n",
        "tensor[1, 1, 1] = 10\n",
        "print(\"Tensor modificado:\\n\", tensor)\n"
      ],
      "metadata": {
        "id": "xXVxI3dYXMbb"
      },
      "execution_count": null,
      "outputs": []
    },
    {
      "cell_type": "markdown",
      "source": [
        "## Biblioteca Pandas"
      ],
      "metadata": {
        "id": "u5IdBuDdXRq6"
      }
    },
    {
      "cell_type": "markdown",
      "source": [
        "#### Ejercicio 1"
      ],
      "metadata": {
        "id": "rCCZNGktXUlY"
      }
    },
    {
      "cell_type": "code",
      "source": [
        "import pandas as pd\n",
        "\n",
        "# Creaciom del diccionario\n",
        "data = {\n",
        "    'Nombre': ['Juan', 'Maria', 'Pedro', 'Jose'],\n",
        "    'Edad': [20, 26, 18, 22],\n",
        "    'Pais': ['Argentina', 'Peru', 'Brasil', 'Chile']\n",
        "}\n",
        "\n",
        "# Crear un DataFrame a partir del diccionario\n",
        "df = pd.DataFrame(data)\n",
        "\n",
        "# Mostrar el DataFrame\n",
        "print(df)\n",
        "\n",
        "print('------------------------------------------------------')\n",
        "# Mostrar los nombres de las columnas\n",
        "print('Nombre de las columnas:'+str(df.columns))\n",
        "\n",
        "\n",
        "\n",
        "\n",
        "print('------------------------------------------------------')\n",
        "\n",
        "# Sea la siguiente persona: Pablo | 30 años | Colombia\n",
        "\n",
        "pabloData = pd.DataFrame({'Nombre': ['Pablo'], 'Edad': [30], 'Pais': ['Colombia']})\n",
        "\n",
        "# Forma 1 para agregar la persona al Dataframe\n",
        "# En esta forma, creamos otro Dataframe pero solamente con los campos pertenecientes a 'Pablo'\n",
        "# Luego \"unimos\" dicho Dataframe 'pabloData' con el Dataframe original\n",
        "df = pd.concat([df, pabloData], ignore_index=True)\n",
        "df = pd.concat([df, pabloData], ignore_index=True)\n",
        "\n",
        "print('Dataframe luego de agregar los datos:')\n",
        "print(df)\n",
        "\n",
        "print('------------------------------------------------------')\n",
        "\n",
        "# Forma 1 para eliminar un dato\n",
        "# Eliminando uno de los pablos utilizando iloc\n",
        "df = df.iloc[:-1]\n",
        "\n",
        "\n",
        "# Forma 2 para eliminar un dato\n",
        "# Eliminando uno de los pablos utilizando drop()\n",
        "# df.drop(df.index[-1], inplace=True)\n",
        "\n",
        "print('Dataframe luego de eliminar los datos:')\n",
        "print(df)\n",
        "\n",
        "print('------------------------------------------------------')\n",
        "\n",
        "#Para modificar el campo país que sea igual a Peru → Perú\n",
        "\n",
        "df.loc[df['Pais'] == 'Peru', 'Pais'] = 'Perú'\n",
        "\n",
        "print('Dataframe luego de modificar el campo Peru → Perd:')\n",
        "print(df)"
      ],
      "metadata": {
        "colab": {
          "base_uri": "https://localhost:8080/"
        },
        "id": "Gb34ByAyyC5L",
        "outputId": "596e5946-edc2-4aa5-88f8-0539e66ffff7"
      },
      "execution_count": null,
      "outputs": [
        {
          "output_type": "stream",
          "name": "stdout",
          "text": [
            "  Nombre  Edad       Pais\n",
            "0   Juan    20  Argentina\n",
            "1  Maria    26       Peru\n",
            "2  Pedro    18     Brasil\n",
            "3   Jose    22      Chile\n",
            "------------------------------------------------------\n",
            "Nombre de las columnas:Index(['Nombre', 'Edad', 'Pais'], dtype='object')\n",
            "------------------------------------------------------\n",
            "Dataframe luego de agregar los datos:\n",
            "  Nombre  Edad       Pais\n",
            "0   Juan    20  Argentina\n",
            "1  Maria    26       Peru\n",
            "2  Pedro    18     Brasil\n",
            "3   Jose    22      Chile\n",
            "4  Pablo    30   Colombia\n",
            "5  Pablo    30   Colombia\n",
            "------------------------------------------------------\n",
            "Dataframe luego de eliminar los datos:\n",
            "  Nombre  Edad       Pais\n",
            "0   Juan    20  Argentina\n",
            "1  Maria    26       Peru\n",
            "2  Pedro    18     Brasil\n",
            "3   Jose    22      Chile\n",
            "4  Pablo    30   Colombia\n",
            "------------------------------------------------------\n",
            "Dataframe luego de modificar el campo Peru → Perd:\n",
            "  Nombre  Edad       Pais\n",
            "0   Juan    20  Argentina\n",
            "1  Maria    26       Perú\n",
            "2  Pedro    18     Brasil\n",
            "3   Jose    22      Chile\n",
            "4  Pablo    30   Colombia\n"
          ]
        }
      ]
    },
    {
      "cell_type": "markdown",
      "source": [
        "#### Ejercicio 2"
      ],
      "metadata": {
        "id": "StvaSVAC06n4"
      }
    },
    {
      "cell_type": "code",
      "source": [
        "import pandas as pd\n",
        "\n",
        "# Creaciom del diccionario\n",
        "data = {\n",
        "    'Nombre': ['Juan', 'Maria', 'Pedro', 'Jose'],\n",
        "    'Edad': [20, 26, 18, 22],\n",
        "    'Pais': ['Argentina', 'Peru', 'Brasil', 'Chile']\n",
        "}\n",
        "\n",
        "# Crear un DataFrame a partir del diccionario\n",
        "df = pd.DataFrame(data)\n",
        "\n",
        "\n",
        "# Sea la siguiente persona: Pablo | 30 años | Colombia\n",
        "\n",
        "pabloData = pd.DataFrame({'Nombre': ['Pablo'], 'Edad': [30], 'Pais': ['Colombia']})\n",
        "\n",
        "\n",
        "# Mostrar el DataFrame\n",
        "print(df)\n",
        "\n",
        "\n",
        "# Guardar en archivo de texto con delimitador de tabulador\n",
        "df.to_csv('archivo_delimitador_tab.txt', sep='\\t', index=False)\n",
        "\n",
        "# Guardar en archivo de texto con delimitador de punto y coma\n",
        "df.to_csv('archivo_delimitador_punto_coma.csv', sep=';', index=False)\n",
        "\n",
        "# Guardar en archivo Excel\n",
        "df.to_excel('archivo_excel.xlsx', index=False)\n",
        "\n",
        "# Guardar en archivo JSON\n",
        "df.to_json('archivo_json.json', orient='records', indent=4)\n"
      ],
      "metadata": {
        "id": "O3pkipgs077g",
        "outputId": "a8590cf7-b5e3-4c7d-dfbb-be65fd1914a0",
        "colab": {
          "base_uri": "https://localhost:8080/"
        }
      },
      "execution_count": null,
      "outputs": [
        {
          "output_type": "stream",
          "name": "stdout",
          "text": [
            "  Nombre  Edad       Pais\n",
            "0   Juan    20  Argentina\n",
            "1  Maria    26       Peru\n",
            "2  Pedro    18     Brasil\n",
            "3   Jose    22      Chile\n"
          ]
        }
      ]
    }
  ]
}
